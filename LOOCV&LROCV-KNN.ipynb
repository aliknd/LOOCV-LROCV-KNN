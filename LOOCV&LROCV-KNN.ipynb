{
 "cells": [
  {
   "cell_type": "code",
   "execution_count": 7,
   "id": "d89e2bc0",
   "metadata": {},
   "outputs": [],
   "source": [
    "import numpy as np\n",
    "import pandas as pd\n",
    "import matplotlib.pyplot as plt\n",
    "from sklearn.neighbors import KNeighborsRegressor"
   ]
  },
  {
   "cell_type": "code",
   "execution_count": 4,
   "id": "3d2ebc2a",
   "metadata": {},
   "outputs": [],
   "source": [
    "# spliting data for Leave-One-Out Cross Validation\n",
    "def Leave_one_out(n):\n",
    "    sets = []\n",
    "    for i in range(n):\n",
    "        train = []\n",
    "        sets.append((train, [i]))\n",
    "        for j in range(n):\n",
    "            if j != i:\n",
    "                train.append(j)\n",
    "    return sets"
   ]
  },
  {
   "cell_type": "code",
   "execution_count": 5,
   "id": "5f0afefd",
   "metadata": {},
   "outputs": [
    {
     "name": "stdout",
     "output_type": "stream",
     "text": [
      "trainig set:[1, 2, 3, 4, 5, 6, 7, 8, 9, 10, 11, 12, 13, 14, 15, 16, 17, 18, 19] test set:[0]\n",
      "trainig set:[0, 2, 3, 4, 5, 6, 7, 8, 9, 10, 11, 12, 13, 14, 15, 16, 17, 18, 19] test set:[1]\n",
      "trainig set:[0, 1, 3, 4, 5, 6, 7, 8, 9, 10, 11, 12, 13, 14, 15, 16, 17, 18, 19] test set:[2]\n",
      "trainig set:[0, 1, 2, 4, 5, 6, 7, 8, 9, 10, 11, 12, 13, 14, 15, 16, 17, 18, 19] test set:[3]\n",
      "trainig set:[0, 1, 2, 3, 5, 6, 7, 8, 9, 10, 11, 12, 13, 14, 15, 16, 17, 18, 19] test set:[4]\n",
      "trainig set:[0, 1, 2, 3, 4, 6, 7, 8, 9, 10, 11, 12, 13, 14, 15, 16, 17, 18, 19] test set:[5]\n",
      "trainig set:[0, 1, 2, 3, 4, 5, 7, 8, 9, 10, 11, 12, 13, 14, 15, 16, 17, 18, 19] test set:[6]\n",
      "trainig set:[0, 1, 2, 3, 4, 5, 6, 8, 9, 10, 11, 12, 13, 14, 15, 16, 17, 18, 19] test set:[7]\n",
      "trainig set:[0, 1, 2, 3, 4, 5, 6, 7, 9, 10, 11, 12, 13, 14, 15, 16, 17, 18, 19] test set:[8]\n",
      "trainig set:[0, 1, 2, 3, 4, 5, 6, 7, 8, 10, 11, 12, 13, 14, 15, 16, 17, 18, 19] test set:[9]\n",
      "trainig set:[0, 1, 2, 3, 4, 5, 6, 7, 8, 9, 11, 12, 13, 14, 15, 16, 17, 18, 19] test set:[10]\n",
      "trainig set:[0, 1, 2, 3, 4, 5, 6, 7, 8, 9, 10, 12, 13, 14, 15, 16, 17, 18, 19] test set:[11]\n",
      "trainig set:[0, 1, 2, 3, 4, 5, 6, 7, 8, 9, 10, 11, 13, 14, 15, 16, 17, 18, 19] test set:[12]\n",
      "trainig set:[0, 1, 2, 3, 4, 5, 6, 7, 8, 9, 10, 11, 12, 14, 15, 16, 17, 18, 19] test set:[13]\n",
      "trainig set:[0, 1, 2, 3, 4, 5, 6, 7, 8, 9, 10, 11, 12, 13, 15, 16, 17, 18, 19] test set:[14]\n",
      "trainig set:[0, 1, 2, 3, 4, 5, 6, 7, 8, 9, 10, 11, 12, 13, 14, 16, 17, 18, 19] test set:[15]\n",
      "trainig set:[0, 1, 2, 3, 4, 5, 6, 7, 8, 9, 10, 11, 12, 13, 14, 15, 17, 18, 19] test set:[16]\n",
      "trainig set:[0, 1, 2, 3, 4, 5, 6, 7, 8, 9, 10, 11, 12, 13, 14, 15, 16, 18, 19] test set:[17]\n",
      "trainig set:[0, 1, 2, 3, 4, 5, 6, 7, 8, 9, 10, 11, 12, 13, 14, 15, 16, 17, 19] test set:[18]\n",
      "trainig set:[0, 1, 2, 3, 4, 5, 6, 7, 8, 9, 10, 11, 12, 13, 14, 15, 16, 17, 18] test set:[19]\n"
     ]
    }
   ],
   "source": [
    "# testing the above function with a random input size of 20\n",
    "for train, test in Leave_one_out(20):\n",
    "    print(f\"trainig set:{train} test set:{test}\")"
   ]
  },
  {
   "cell_type": "code",
   "execution_count": 6,
   "id": "02165f73",
   "metadata": {},
   "outputs": [],
   "source": [
    "# spliting data for Leave-Replica-Out Cross Validation\n",
    "\n",
    "def leave_replica_out(unique_r, pairs):\n",
    "    test_set = []\n",
    "    train_set = []\n",
    "    train_test_set = []\n",
    "    for i in unique_r:\n",
    "        test_indice = []\n",
    "        train_indice = []\n",
    "        for j, value in enumerate(pairs):\n",
    "            if str(i) == str(value):\n",
    "                test_indice.append(j)\n",
    "            else:\n",
    "                train_indice.append(j)\n",
    "        test_set.append(test_indice)\n",
    "        train_set.append(train_indice)\n",
    "        train_test_set.append((train_indice, test_indice))\n",
    "    return train_test_set"
   ]
  },
  {
   "cell_type": "markdown",
   "id": "e3e00024",
   "metadata": {},
   "source": [
    "## Results for Leave-One-Out cross-validation"
   ]
  },
  {
   "cell_type": "code",
   "execution_count": null,
   "id": "2c31957b",
   "metadata": {},
   "outputs": [],
   "source": [
    "cdict = {0: 'c_total', 1: 'Cd', 2: 'Pb'}\n",
    "\n",
    "for ic in cdict:\n",
    "    y_true, y_pred = [], []\n",
    "\n",
    "    # data splits\n",
    "    for train_ix, test_ix in split_data(n):\n",
    "        # splitting our data\n",
    "        X_train, X_test = X[train_ix, :], X[test_ix, :]\n",
    "        y_train, y_test = y[:, ic][train_ix], y[:, ic][test_ix]\n",
    "\n",
    "        # training the model\n",
    "        neigh = KNeighborsRegressor(n_neighbors=3)\n",
    "        neigh.fit(X_train, y_train)\n",
    "        # predicting test data\n",
    "        predictions_y = neigh.predict(X_test)\n",
    "        # storing the labels\n",
    "        y_true.append(y_test)\n",
    "        y_pred.append(predictions_y)\n",
    "\n",
    "    # calculating c index\n",
    "    c_index = cindex(y_true, y_pred)\n",
    "    print(f'c_index for {cdict[ic]}: {c_index}')"
   ]
  },
  {
   "cell_type": "markdown",
   "id": "ff421e81",
   "metadata": {},
   "source": [
    "## Results for Leave-Replicas-Out cross-validation"
   ]
  },
  {
   "cell_type": "code",
   "execution_count": null,
   "id": "3a819a18",
   "metadata": {},
   "outputs": [],
   "source": [
    "cdict = {0: 'c_total', 1: 'Cd', 2: 'Pb'}\n",
    "\n",
    "for ic in cdict:\n",
    "    y_true, y_pred = [], []\n",
    "\n",
    "    # data splits\n",
    "    for train_ix, test_ix in leave_replica_out(unique_r, pairs):\n",
    "        # splitting our data\n",
    "        X_train, X_test = X[train_ix, :], X[test_ix, :]\n",
    "        y_train, y_test = y[:, ic][train_ix], y[:, ic][test_ix]\n",
    "        y_train = y_train.reshape(-1, 1)\n",
    "        y_test = y_test.reshape(-1, 1)\n",
    "        y_true.extend(y_test)\n",
    "\n",
    "        # training the model\n",
    "        neigh = KNeighborsRegressor(n_neighbors=3)\n",
    "        neigh.fit(X_train, y_train)\n",
    "        # predicting test data\n",
    "        predictions_y = neigh.predict(X_test)\n",
    "        # storing the labels\n",
    "        y_pred.extend(predictions_y)\n",
    "\n",
    "    # calculating c index\n",
    "    c_index = cindex(y_true, y_pred)\n",
    "    print(f'c_index for {cdict[ic]}: {c_index}')"
   ]
  }
 ],
 "metadata": {
  "kernelspec": {
   "display_name": "Python 3 (ipykernel)",
   "language": "python",
   "name": "python3"
  },
  "language_info": {
   "codemirror_mode": {
    "name": "ipython",
    "version": 3
   },
   "file_extension": ".py",
   "mimetype": "text/x-python",
   "name": "python",
   "nbconvert_exporter": "python",
   "pygments_lexer": "ipython3",
   "version": "3.9.7"
  }
 },
 "nbformat": 4,
 "nbformat_minor": 5
}
